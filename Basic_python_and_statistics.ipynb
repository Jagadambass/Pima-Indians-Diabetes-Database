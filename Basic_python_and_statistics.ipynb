{
  "nbformat": 4,
  "nbformat_minor": 0,
  "metadata": {
    "colab": {
      "name": "Basic python and statistics.ipynb",
      "provenance": [],
      "collapsed_sections": []
    },
    "kernelspec": {
      "name": "python3",
      "display_name": "Python 3"
    }
  },
  "cells": [
    {
      "cell_type": "markdown",
      "metadata": {
        "id": "X68xcevi1PSr"
      },
      "source": [
        "# Diabetes Prediction with CART Algorithm\r\n",
        " * **Diabetes**, is a group of metabolic disorders in which there are high blood sugar levels over a prolonged period. Symptoms of high blood sugar include frequent urination, increased thirst, and increased hunger. If left untreated, diabetes can cause many complications. Acute complications can include diabetic ketoacidosis, hyperosmolar hyperglycemic state, or death. Serious long-term complications include cardiovascular disease, stroke, chronic kidney disease, foot ulcers, and damage to the eyes.\r\n",
        "\r\n",
        "# Data Set and Story\r\n",
        " * This dataset is originally from the National Institute of Diabetes and Digestive and Kidney Diseases. The objective of the dataset is to diagnostically predict whether or not a patient has diabetes, based on certain diagnostic measurements included in the dataset. Several constraints were placed on the selection of these instances from a larger database. In particular, all patients here are females at least 21 years old of Pima Indian heritage.\r\n",
        "\r\n",
        " * Pregnancies: Number of times pregnant\r\n",
        " * Glucose: Glucose\r\n",
        " * BloodPressure: Blood pressure \r\n",
        " * SkinThickness: Triceps skin fold thickness\r\n",
        " * Insulin: Insulin\r\n",
        " * BMI: Body mass index \r\n",
        " * DiabetesPedigreeFunction: Diabetes pedigree function\r\n",
        " * Age: Age (years)\r\n",
        " * Outcome: The knowledge of whether there is diabetes (this is our target) "
      ]
    },
    {
      "cell_type": "code",
      "metadata": {
        "colab": {
          "base_uri": "https://localhost:8080/"
        },
        "id": "FA1FROja0pXF",
        "outputId": "66310f3b-094e-4db2-9eb8-4c05ac750f4f"
      },
      "source": [
        "!pip install skompiler\r\n",
        "import numpy as np # linear algebra\r\n",
        "import pandas as pd\r\n",
        "\r\n",
        "import warnings\r\n",
        "import pandas as pd\r\n",
        "import numpy as np\r\n",
        "from skompiler import skompile\r\n",
        "from sklearn import preprocessing\r\n",
        "from sklearn.tree import DecisionTreeClassifier, export_graphviz, export_text\r\n",
        "from sklearn.model_selection import train_test_split\r\n",
        "from sklearn.metrics import *\r\n",
        "from sklearn.model_selection import *\r\n",
        "from sklearn.exceptions import ConvergenceWarning\r\n",
        "warnings.simplefilter(action='ignore', category=FutureWarning)\r\n",
        "warnings.simplefilter(\"ignore\", category=ConvergenceWarning)"
      ],
      "execution_count": 1,
      "outputs": [
        {
          "output_type": "stream",
          "text": [
            "Collecting skompiler\n",
            "\u001b[?25l  Downloading https://files.pythonhosted.org/packages/77/31/cbc7fc4fe064425efbf2044b94bd1973472d8aac85b4d9346c7330e03dfb/SKompiler-0.5.5.tar.gz (48kB)\n",
            "\r\u001b[K     |██████▊                         | 10kB 15.9MB/s eta 0:00:01\r\u001b[K     |█████████████▌                  | 20kB 14.1MB/s eta 0:00:01\r\u001b[K     |████████████████████▎           | 30kB 11.6MB/s eta 0:00:01\r\u001b[K     |███████████████████████████     | 40kB 9.9MB/s eta 0:00:01\r\u001b[K     |████████████████████████████████| 51kB 3.5MB/s \n",
            "\u001b[?25hRequirement already satisfied: scikit-learn in /usr/local/lib/python3.7/dist-packages (from skompiler) (0.22.2.post1)\n",
            "Requirement already satisfied: scipy>=0.17.0 in /usr/local/lib/python3.7/dist-packages (from scikit-learn->skompiler) (1.4.1)\n",
            "Requirement already satisfied: joblib>=0.11 in /usr/local/lib/python3.7/dist-packages (from scikit-learn->skompiler) (1.0.1)\n",
            "Requirement already satisfied: numpy>=1.11.0 in /usr/local/lib/python3.7/dist-packages (from scikit-learn->skompiler) (1.19.5)\n",
            "Building wheels for collected packages: skompiler\n",
            "  Building wheel for skompiler (setup.py) ... \u001b[?25l\u001b[?25hdone\n",
            "  Created wheel for skompiler: filename=SKompiler-0.5.5-cp37-none-any.whl size=57149 sha256=f5532b46f8703071c05f20d8e98058d1b14c744136b2f963fe29050808d1679d\n",
            "  Stored in directory: /root/.cache/pip/wheels/21/eb/99/6e32f89da503a823f6bc1a985abfdaeaa01b3a6b5ac5776d15\n",
            "Successfully built skompiler\n",
            "Installing collected packages: skompiler\n",
            "Successfully installed skompiler-0.5.5\n"
          ],
          "name": "stdout"
        }
      ]
    },
    {
      "cell_type": "code",
      "metadata": {
        "colab": {
          "base_uri": "https://localhost:8080/",
          "height": 195
        },
        "id": "63e-gER-0rS-",
        "outputId": "8303bc65-729b-4f1d-c033-a018228d462a"
      },
      "source": [
        "df = pd.read_csv(\"/content/sample_data/diabetes.csv\")\r\n",
        "\r\n",
        "# Looking at the first 5 rows of the data set\r\n",
        "df.head()"
      ],
      "execution_count": 2,
      "outputs": [
        {
          "output_type": "execute_result",
          "data": {
            "text/html": [
              "<div>\n",
              "<style scoped>\n",
              "    .dataframe tbody tr th:only-of-type {\n",
              "        vertical-align: middle;\n",
              "    }\n",
              "\n",
              "    .dataframe tbody tr th {\n",
              "        vertical-align: top;\n",
              "    }\n",
              "\n",
              "    .dataframe thead th {\n",
              "        text-align: right;\n",
              "    }\n",
              "</style>\n",
              "<table border=\"1\" class=\"dataframe\">\n",
              "  <thead>\n",
              "    <tr style=\"text-align: right;\">\n",
              "      <th></th>\n",
              "      <th>Pregnancies</th>\n",
              "      <th>Glucose</th>\n",
              "      <th>BloodPressure</th>\n",
              "      <th>SkinThickness</th>\n",
              "      <th>Insulin</th>\n",
              "      <th>BMI</th>\n",
              "      <th>DiabetesPedigreeFunction</th>\n",
              "      <th>Age</th>\n",
              "      <th>Outcome</th>\n",
              "    </tr>\n",
              "  </thead>\n",
              "  <tbody>\n",
              "    <tr>\n",
              "      <th>0</th>\n",
              "      <td>6</td>\n",
              "      <td>148</td>\n",
              "      <td>72</td>\n",
              "      <td>35</td>\n",
              "      <td>0</td>\n",
              "      <td>33.6</td>\n",
              "      <td>0.627</td>\n",
              "      <td>50</td>\n",
              "      <td>1</td>\n",
              "    </tr>\n",
              "    <tr>\n",
              "      <th>1</th>\n",
              "      <td>1</td>\n",
              "      <td>85</td>\n",
              "      <td>66</td>\n",
              "      <td>29</td>\n",
              "      <td>0</td>\n",
              "      <td>26.6</td>\n",
              "      <td>0.351</td>\n",
              "      <td>31</td>\n",
              "      <td>0</td>\n",
              "    </tr>\n",
              "    <tr>\n",
              "      <th>2</th>\n",
              "      <td>8</td>\n",
              "      <td>183</td>\n",
              "      <td>64</td>\n",
              "      <td>0</td>\n",
              "      <td>0</td>\n",
              "      <td>23.3</td>\n",
              "      <td>0.672</td>\n",
              "      <td>32</td>\n",
              "      <td>1</td>\n",
              "    </tr>\n",
              "    <tr>\n",
              "      <th>3</th>\n",
              "      <td>1</td>\n",
              "      <td>89</td>\n",
              "      <td>66</td>\n",
              "      <td>23</td>\n",
              "      <td>94</td>\n",
              "      <td>28.1</td>\n",
              "      <td>0.167</td>\n",
              "      <td>21</td>\n",
              "      <td>0</td>\n",
              "    </tr>\n",
              "    <tr>\n",
              "      <th>4</th>\n",
              "      <td>0</td>\n",
              "      <td>137</td>\n",
              "      <td>40</td>\n",
              "      <td>35</td>\n",
              "      <td>168</td>\n",
              "      <td>43.1</td>\n",
              "      <td>2.288</td>\n",
              "      <td>33</td>\n",
              "      <td>1</td>\n",
              "    </tr>\n",
              "  </tbody>\n",
              "</table>\n",
              "</div>"
            ],
            "text/plain": [
              "   Pregnancies  Glucose  BloodPressure  ...  DiabetesPedigreeFunction  Age  Outcome\n",
              "0            6      148             72  ...                     0.627   50        1\n",
              "1            1       85             66  ...                     0.351   31        0\n",
              "2            8      183             64  ...                     0.672   32        1\n",
              "3            1       89             66  ...                     0.167   21        0\n",
              "4            0      137             40  ...                     2.288   33        1\n",
              "\n",
              "[5 rows x 9 columns]"
            ]
          },
          "metadata": {
            "tags": []
          },
          "execution_count": 2
        }
      ]
    },
    {
      "cell_type": "code",
      "metadata": {
        "colab": {
          "base_uri": "https://localhost:8080/"
        },
        "id": "IqUX0Mry1BY0",
        "outputId": "a5451d15-24a1-4ee3-ad88-2388543d4068"
      },
      "source": [
        "df.info()"
      ],
      "execution_count": 3,
      "outputs": [
        {
          "output_type": "stream",
          "text": [
            "<class 'pandas.core.frame.DataFrame'>\n",
            "RangeIndex: 768 entries, 0 to 767\n",
            "Data columns (total 9 columns):\n",
            " #   Column                    Non-Null Count  Dtype  \n",
            "---  ------                    --------------  -----  \n",
            " 0   Pregnancies               768 non-null    int64  \n",
            " 1   Glucose                   768 non-null    int64  \n",
            " 2   BloodPressure             768 non-null    int64  \n",
            " 3   SkinThickness             768 non-null    int64  \n",
            " 4   Insulin                   768 non-null    int64  \n",
            " 5   BMI                       768 non-null    float64\n",
            " 6   DiabetesPedigreeFunction  768 non-null    float64\n",
            " 7   Age                       768 non-null    int64  \n",
            " 8   Outcome                   768 non-null    int64  \n",
            "dtypes: float64(2), int64(7)\n",
            "memory usage: 54.1 KB\n"
          ],
          "name": "stdout"
        }
      ]
    },
    {
      "cell_type": "code",
      "metadata": {
        "colab": {
          "base_uri": "https://localhost:8080/",
          "height": 314
        },
        "id": "Gsq26nn31FB9",
        "outputId": "75f7877f-5493-4aba-911a-0b031bd2e2f8"
      },
      "source": [
        "df.describe().T"
      ],
      "execution_count": 4,
      "outputs": [
        {
          "output_type": "execute_result",
          "data": {
            "text/html": [
              "<div>\n",
              "<style scoped>\n",
              "    .dataframe tbody tr th:only-of-type {\n",
              "        vertical-align: middle;\n",
              "    }\n",
              "\n",
              "    .dataframe tbody tr th {\n",
              "        vertical-align: top;\n",
              "    }\n",
              "\n",
              "    .dataframe thead th {\n",
              "        text-align: right;\n",
              "    }\n",
              "</style>\n",
              "<table border=\"1\" class=\"dataframe\">\n",
              "  <thead>\n",
              "    <tr style=\"text-align: right;\">\n",
              "      <th></th>\n",
              "      <th>count</th>\n",
              "      <th>mean</th>\n",
              "      <th>std</th>\n",
              "      <th>min</th>\n",
              "      <th>25%</th>\n",
              "      <th>50%</th>\n",
              "      <th>75%</th>\n",
              "      <th>max</th>\n",
              "    </tr>\n",
              "  </thead>\n",
              "  <tbody>\n",
              "    <tr>\n",
              "      <th>Pregnancies</th>\n",
              "      <td>768.0</td>\n",
              "      <td>3.845052</td>\n",
              "      <td>3.369578</td>\n",
              "      <td>0.000</td>\n",
              "      <td>1.00000</td>\n",
              "      <td>3.0000</td>\n",
              "      <td>6.00000</td>\n",
              "      <td>17.00</td>\n",
              "    </tr>\n",
              "    <tr>\n",
              "      <th>Glucose</th>\n",
              "      <td>768.0</td>\n",
              "      <td>120.894531</td>\n",
              "      <td>31.972618</td>\n",
              "      <td>0.000</td>\n",
              "      <td>99.00000</td>\n",
              "      <td>117.0000</td>\n",
              "      <td>140.25000</td>\n",
              "      <td>199.00</td>\n",
              "    </tr>\n",
              "    <tr>\n",
              "      <th>BloodPressure</th>\n",
              "      <td>768.0</td>\n",
              "      <td>69.105469</td>\n",
              "      <td>19.355807</td>\n",
              "      <td>0.000</td>\n",
              "      <td>62.00000</td>\n",
              "      <td>72.0000</td>\n",
              "      <td>80.00000</td>\n",
              "      <td>122.00</td>\n",
              "    </tr>\n",
              "    <tr>\n",
              "      <th>SkinThickness</th>\n",
              "      <td>768.0</td>\n",
              "      <td>20.536458</td>\n",
              "      <td>15.952218</td>\n",
              "      <td>0.000</td>\n",
              "      <td>0.00000</td>\n",
              "      <td>23.0000</td>\n",
              "      <td>32.00000</td>\n",
              "      <td>99.00</td>\n",
              "    </tr>\n",
              "    <tr>\n",
              "      <th>Insulin</th>\n",
              "      <td>768.0</td>\n",
              "      <td>79.799479</td>\n",
              "      <td>115.244002</td>\n",
              "      <td>0.000</td>\n",
              "      <td>0.00000</td>\n",
              "      <td>30.5000</td>\n",
              "      <td>127.25000</td>\n",
              "      <td>846.00</td>\n",
              "    </tr>\n",
              "    <tr>\n",
              "      <th>BMI</th>\n",
              "      <td>768.0</td>\n",
              "      <td>31.992578</td>\n",
              "      <td>7.884160</td>\n",
              "      <td>0.000</td>\n",
              "      <td>27.30000</td>\n",
              "      <td>32.0000</td>\n",
              "      <td>36.60000</td>\n",
              "      <td>67.10</td>\n",
              "    </tr>\n",
              "    <tr>\n",
              "      <th>DiabetesPedigreeFunction</th>\n",
              "      <td>768.0</td>\n",
              "      <td>0.471876</td>\n",
              "      <td>0.331329</td>\n",
              "      <td>0.078</td>\n",
              "      <td>0.24375</td>\n",
              "      <td>0.3725</td>\n",
              "      <td>0.62625</td>\n",
              "      <td>2.42</td>\n",
              "    </tr>\n",
              "    <tr>\n",
              "      <th>Age</th>\n",
              "      <td>768.0</td>\n",
              "      <td>33.240885</td>\n",
              "      <td>11.760232</td>\n",
              "      <td>21.000</td>\n",
              "      <td>24.00000</td>\n",
              "      <td>29.0000</td>\n",
              "      <td>41.00000</td>\n",
              "      <td>81.00</td>\n",
              "    </tr>\n",
              "    <tr>\n",
              "      <th>Outcome</th>\n",
              "      <td>768.0</td>\n",
              "      <td>0.348958</td>\n",
              "      <td>0.476951</td>\n",
              "      <td>0.000</td>\n",
              "      <td>0.00000</td>\n",
              "      <td>0.0000</td>\n",
              "      <td>1.00000</td>\n",
              "      <td>1.00</td>\n",
              "    </tr>\n",
              "  </tbody>\n",
              "</table>\n",
              "</div>"
            ],
            "text/plain": [
              "                          count        mean  ...        75%     max\n",
              "Pregnancies               768.0    3.845052  ...    6.00000   17.00\n",
              "Glucose                   768.0  120.894531  ...  140.25000  199.00\n",
              "BloodPressure             768.0   69.105469  ...   80.00000  122.00\n",
              "SkinThickness             768.0   20.536458  ...   32.00000   99.00\n",
              "Insulin                   768.0   79.799479  ...  127.25000  846.00\n",
              "BMI                       768.0   31.992578  ...   36.60000   67.10\n",
              "DiabetesPedigreeFunction  768.0    0.471876  ...    0.62625    2.42\n",
              "Age                       768.0   33.240885  ...   41.00000   81.00\n",
              "Outcome                   768.0    0.348958  ...    1.00000    1.00\n",
              "\n",
              "[9 rows x 8 columns]"
            ]
          },
          "metadata": {
            "tags": []
          },
          "execution_count": 4
        }
      ]
    },
    {
      "cell_type": "code",
      "metadata": {
        "id": "enWYdLP81K6I"
      },
      "source": [
        "df[[\"Glucose\", \"BloodPressure\", \"SkinThickness\", \"Insulin\", \"BMI\"]] = \\\r\n",
        "    df[[\"Glucose\", \"BloodPressure\", \"SkinThickness\", \"Insulin\", \"BMI\"]].replace(0, np.NaN)"
      ],
      "execution_count": 5,
      "outputs": []
    },
    {
      "cell_type": "code",
      "metadata": {
        "colab": {
          "base_uri": "https://localhost:8080/"
        },
        "id": "I2E-yMY_1rq4",
        "outputId": "3aeabb5f-8b41-4d0b-a058-8fcec3197054"
      },
      "source": [
        "df.isnull().sum()"
      ],
      "execution_count": 6,
      "outputs": [
        {
          "output_type": "execute_result",
          "data": {
            "text/plain": [
              "Pregnancies                   0\n",
              "Glucose                       5\n",
              "BloodPressure                35\n",
              "SkinThickness               227\n",
              "Insulin                     374\n",
              "BMI                          11\n",
              "DiabetesPedigreeFunction      0\n",
              "Age                           0\n",
              "Outcome                       0\n",
              "dtype: int64"
            ]
          },
          "metadata": {
            "tags": []
          },
          "execution_count": 6
        }
      ]
    },
    {
      "cell_type": "code",
      "metadata": {
        "id": "1pw0VeQQ1uCI"
      },
      "source": [
        "def grab_col_names(dataframe, cat_th=10, car_th=20):\r\n",
        "    cat_cols = [col for col in dataframe.columns if dataframe[col].dtypes == \"O\"]\r\n",
        "\r\n",
        "    num_but_cat = [col for col in dataframe.columns if dataframe[col].nunique() < cat_th and\r\n",
        "                   dataframe[col].dtypes != \"O\"]\r\n",
        "\r\n",
        "    cat_but_car = [col for col in dataframe.columns if dataframe[col].nunique() > car_th and\r\n",
        "                   dataframe[col].dtypes == \"O\"]\r\n",
        "\r\n",
        "    cat_cols = cat_cols + num_but_cat\r\n",
        "    cat_cols = [col for col in cat_cols if col not in cat_but_car]\r\n",
        "\r\n",
        "    num_cols = [col for col in dataframe.columns if dataframe[col].dtypes != \"O\"]\r\n",
        "    num_cols = [col for col in num_cols if col not in num_but_cat]\r\n",
        "    \r\n",
        "    print(f'cat_cols: {len(cat_cols)}')\r\n",
        "    print(f'num_cols: {len(num_cols)}')\r\n",
        "    print(f'cat_but_car: {len(cat_but_car)}')\r\n",
        "    print(f'num_but_cat: {len(num_but_cat)}')\r\n",
        "    \r\n",
        "    return cat_cols, cat_but_car, num_cols, num_but_cat\r\n"
      ],
      "execution_count": 7,
      "outputs": []
    },
    {
      "cell_type": "code",
      "metadata": {
        "colab": {
          "base_uri": "https://localhost:8080/"
        },
        "id": "olP5_0bW1yrf",
        "outputId": "a188bb60-7f85-4c50-d39e-4a50adadfbf4"
      },
      "source": [
        "cat_cols, cat_but_car, num_cols, num_but_cat = grab_col_names(df)"
      ],
      "execution_count": 8,
      "outputs": [
        {
          "output_type": "stream",
          "text": [
            "cat_cols: 1\n",
            "num_cols: 8\n",
            "cat_but_car: 0\n",
            "num_but_cat: 1\n"
          ],
          "name": "stdout"
        }
      ]
    },
    {
      "cell_type": "code",
      "metadata": {
        "id": "pmRBylqW11OQ"
      },
      "source": [
        "# Setting an upper and lower limit for outliers\r\n",
        "def outlier_thresholds(dataframe, variable):\r\n",
        "    quartile1 = dataframe[variable].quantile(0.25)\r\n",
        "    quartile3 = dataframe[variable].quantile(0.75)\r\n",
        "    interquantile_range = quartile3 - quartile1\r\n",
        "    up_limit = quartile3 + 1.5 * interquantile_range\r\n",
        "    low_limit = quartile1 - 1.5 * interquantile_range\r\n",
        "    return low_limit, up_limit"
      ],
      "execution_count": 9,
      "outputs": []
    },
    {
      "cell_type": "code",
      "metadata": {
        "id": "cRGXcPxl131D"
      },
      "source": [
        "# The function that examines whether there is an outlier according to the threshold values we have determined.\r\n",
        "def check_outlier(dataframe, col_name):\r\n",
        "    low_limit, up_limit = outlier_thresholds(dataframe, col_name)\r\n",
        "    if dataframe[(dataframe[col_name] > up_limit) | (dataframe[col_name] < low_limit)].any(axis=None):\r\n",
        "        return True\r\n",
        "    else:\r\n",
        "        return False"
      ],
      "execution_count": 10,
      "outputs": []
    },
    {
      "cell_type": "code",
      "metadata": {
        "colab": {
          "base_uri": "https://localhost:8080/"
        },
        "id": "tsGI0YRL155Z",
        "outputId": "4792a507-08a3-4bf0-dfa2-d86bbd0dc650"
      },
      "source": [
        "for col in num_cols:\r\n",
        "    print(col, check_outlier(df, col))"
      ],
      "execution_count": 11,
      "outputs": [
        {
          "output_type": "stream",
          "text": [
            "Pregnancies True\n",
            "Glucose False\n",
            "BloodPressure True\n",
            "SkinThickness True\n",
            "Insulin True\n",
            "BMI True\n",
            "DiabetesPedigreeFunction True\n",
            "Age True\n"
          ],
          "name": "stdout"
        }
      ]
    },
    {
      "cell_type": "code",
      "metadata": {
        "id": "G3hfjyi218Az"
      },
      "source": [
        "# Replacing outliers with upper and lower limit\r\n",
        "def replace_with_thresholds(dataframe, variable):\r\n",
        "    low_limit, up_limit = outlier_thresholds(dataframe, variable)\r\n",
        "    dataframe.loc[(dataframe[variable] > up_limit), variable] = up_limit"
      ],
      "execution_count": 12,
      "outputs": []
    },
    {
      "cell_type": "code",
      "metadata": {
        "id": "pjIKUZCM1-au"
      },
      "source": [
        "for col in num_cols:\r\n",
        "        replace_with_thresholds(df, col)"
      ],
      "execution_count": 13,
      "outputs": []
    },
    {
      "cell_type": "markdown",
      "metadata": {
        "id": "bWZq46kb2DX8"
      },
      "source": [
        "## Missing Values"
      ]
    },
    {
      "cell_type": "code",
      "metadata": {
        "colab": {
          "base_uri": "https://localhost:8080/"
        },
        "id": "_h4Fy64J2AQX",
        "outputId": "f0c9627a-6221-4eb9-9b5b-29782b5691bf"
      },
      "source": [
        "df.isnull().sum()"
      ],
      "execution_count": 14,
      "outputs": [
        {
          "output_type": "execute_result",
          "data": {
            "text/plain": [
              "Pregnancies                   0\n",
              "Glucose                       5\n",
              "BloodPressure                35\n",
              "SkinThickness               227\n",
              "Insulin                     374\n",
              "BMI                          11\n",
              "DiabetesPedigreeFunction      0\n",
              "Age                           0\n",
              "Outcome                       0\n",
              "dtype: int64"
            ]
          },
          "metadata": {
            "tags": []
          },
          "execution_count": 14
        }
      ]
    },
    {
      "cell_type": "code",
      "metadata": {
        "colab": {
          "base_uri": "https://localhost:8080/",
          "height": 136
        },
        "id": "5bqn6IP42GUG",
        "outputId": "69a2fcec-4888-4f39-cf55-ebb6cb921d66"
      },
      "source": [
        "df.pivot_table(df, index=[\"Outcome\"])"
      ],
      "execution_count": 15,
      "outputs": [
        {
          "output_type": "execute_result",
          "data": {
            "text/html": [
              "<div>\n",
              "<style scoped>\n",
              "    .dataframe tbody tr th:only-of-type {\n",
              "        vertical-align: middle;\n",
              "    }\n",
              "\n",
              "    .dataframe tbody tr th {\n",
              "        vertical-align: top;\n",
              "    }\n",
              "\n",
              "    .dataframe thead th {\n",
              "        text-align: right;\n",
              "    }\n",
              "</style>\n",
              "<table border=\"1\" class=\"dataframe\">\n",
              "  <thead>\n",
              "    <tr style=\"text-align: right;\">\n",
              "      <th></th>\n",
              "      <th>Age</th>\n",
              "      <th>BMI</th>\n",
              "      <th>BloodPressure</th>\n",
              "      <th>DiabetesPedigreeFunction</th>\n",
              "      <th>Glucose</th>\n",
              "      <th>Insulin</th>\n",
              "      <th>Pregnancies</th>\n",
              "      <th>SkinThickness</th>\n",
              "    </tr>\n",
              "    <tr>\n",
              "      <th>Outcome</th>\n",
              "      <th></th>\n",
              "      <th></th>\n",
              "      <th></th>\n",
              "      <th></th>\n",
              "      <th></th>\n",
              "      <th></th>\n",
              "      <th></th>\n",
              "      <th></th>\n",
              "    </tr>\n",
              "  </thead>\n",
              "  <tbody>\n",
              "    <tr>\n",
              "      <th>0</th>\n",
              "      <td>31.135000</td>\n",
              "      <td>30.841141</td>\n",
              "      <td>70.810811</td>\n",
              "      <td>0.420264</td>\n",
              "      <td>110.643863</td>\n",
              "      <td>125.186553</td>\n",
              "      <td>3.298000</td>\n",
              "      <td>27.227147</td>\n",
              "    </tr>\n",
              "    <tr>\n",
              "      <th>1</th>\n",
              "      <td>37.052239</td>\n",
              "      <td>35.262406</td>\n",
              "      <td>75.210317</td>\n",
              "      <td>0.531022</td>\n",
              "      <td>142.319549</td>\n",
              "      <td>189.782692</td>\n",
              "      <td>4.843284</td>\n",
              "      <td>32.733333</td>\n",
              "    </tr>\n",
              "  </tbody>\n",
              "</table>\n",
              "</div>"
            ],
            "text/plain": [
              "               Age        BMI  ...  Pregnancies  SkinThickness\n",
              "Outcome                        ...                            \n",
              "0        31.135000  30.841141  ...     3.298000      27.227147\n",
              "1        37.052239  35.262406  ...     4.843284      32.733333\n",
              "\n",
              "[2 rows x 8 columns]"
            ]
          },
          "metadata": {
            "tags": []
          },
          "execution_count": 15
        }
      ]
    },
    {
      "cell_type": "code",
      "metadata": {
        "id": "uEmHp5aG2ImF"
      },
      "source": [
        "for col in df.columns:\r\n",
        "    df.loc[(df[\"Outcome\"] == 0) & (df[col].isnull()), col] = df[df[\"Outcome\"] == 0][col].median()\r\n",
        "    df.loc[(df[\"Outcome\"] == 1) & (df[col].isnull()), col] = df[df[\"Outcome\"] == 1][col].median()"
      ],
      "execution_count": 16,
      "outputs": []
    },
    {
      "cell_type": "code",
      "metadata": {
        "id": "XhtL7fB32Kmo"
      },
      "source": [
        "\r\n",
        "df.loc[(df[\"BMI\"] < 18.5), \"NEW_BMI_CAT\"] = \"Underweight\"\r\n",
        "df.loc[(df[\"BMI\"] > 18.5) & (df[\"BMI\"] < 25), \"NEW_BMI_CAT\"] = \"Normal\"\r\n",
        "df.loc[(df[\"BMI\"] > 25) & (df[\"BMI\"] < 30), \"NEW_BMI_CAT\"] = \"Overweight\"\r\n",
        "df.loc[(df[\"BMI\"] > 30) & (df[\"BMI\"] < 40), \"NEW_BMI_CAT\"] = \"Obese\"\r\n",
        "\r\n",
        "df.loc[(df[\"Glucose\"] < 70), \"NEW_GLUCOSE_CAT\"] = \"Low\"\r\n",
        "df.loc[(df[\"Glucose\"] > 70) & (df[\"Glucose\"] < 99), \"NEW_GLUCOSE_CAT\"] = \"Normal\"\r\n",
        "df.loc[(df[\"Glucose\"] > 99) & (df[\"Glucose\"] < 126), \"NEW_GLUCOSE_CAT\"] = \"Secret\"\r\n",
        "df.loc[(df[\"Glucose\"] > 126) & (df[\"Glucose\"] < 200), \"NEW_GLUCOSE_CAT\"] = \"High\"\r\n",
        "\r\n",
        "df.loc[df['SkinThickness'] < 30, \"NEW_SKIN_THICKNESS\"] = \"Normal\"\r\n",
        "df.loc[df['SkinThickness'] >= 30, \"NEW_SKIN_THICKNESS\"] = \"HighFat\"\r\n",
        "\r\n",
        "df.loc[df['Pregnancies'] == 0, \"NEW_PREGNANCIES\"] = \"NoPregnancy\"\r\n",
        "df.loc[((df['Pregnancies'] > 0) & (df['Pregnancies'] <= 4)), \"NEW_PREGNANCIES\"] = \"StdPregnancy\"\r\n",
        "df.loc[(df['Pregnancies'] > 4), \"NEW_PREGNANCIES\"] = \"OverPregnancy\"\r\n",
        "\r\n",
        "df.loc[(df['SkinThickness'] < 30) & (df['BloodPressure'] < 80), \"NEW_CIRCULATION_LEVEL\"] = \"Normal\"\r\n",
        "df.loc[(df['SkinThickness'] >= 30) & (df['BloodPressure'] >= 80), \"NEW_CIRCULATION_LEVEL\"] = \"CircularAtHighRisk\"\r\n",
        "df.loc[((df['SkinThickness'] < 30) & (df['BloodPressure'] >= 80))\r\n",
        "       | ((df['SkinThickness'] >= 30) & (df['BloodPressure'] < 80)), \"NEW_CIRCULATION_LEVEL\"] = \"CircularAtMediumRisk\"\r\n",
        "\r\n",
        "df[\"Pre_Age_Cat\"] = df[\"Age\"] * df[\"Pregnancies\"]\r\n",
        "\r\n",
        "df[\"Ins_Glu_Cat\"] = df[\"Glucose\"] * df[\"Insulin\"]"
      ],
      "execution_count": 17,
      "outputs": []
    },
    {
      "cell_type": "code",
      "metadata": {
        "id": "4LdTeG3U2Mo8"
      },
      "source": [
        "def label_encoder(dataframe, binary_col):\r\n",
        "    labelencoder = preprocessing.LabelEncoder()\r\n",
        "    dataframe[binary_col] = labelencoder.fit_transform(dataframe[binary_col])\r\n",
        "    return dataframe"
      ],
      "execution_count": 18,
      "outputs": []
    },
    {
      "cell_type": "code",
      "metadata": {
        "id": "0xDG1Z8Q2PdE"
      },
      "source": [
        "binary_cols = [col for col in df.columns if df[col].dtypes == \"O\"\r\n",
        "               and len(df[col].unique()) == 2]"
      ],
      "execution_count": 19,
      "outputs": []
    },
    {
      "cell_type": "code",
      "metadata": {
        "id": "6vUVXOQ12Rj_"
      },
      "source": [
        "def one_hot_encoder(dataframe, categorical_cols, drop_first=False):\r\n",
        "    dataframe = pd.get_dummies(dataframe, columns=categorical_cols, drop_first=drop_first)\r\n",
        "    return dataframe  "
      ],
      "execution_count": 23,
      "outputs": []
    },
    {
      "cell_type": "markdown",
      "metadata": {
        "id": "-jmczphu2XZa"
      },
      "source": [
        "# One-Hot Encoding"
      ]
    },
    {
      "cell_type": "code",
      "metadata": {
        "id": "BmnUrlbq2TZY"
      },
      "source": [
        "ohe_cols = [col for col in df.columns if 10 >= len(df[col].unique()) > 2]"
      ],
      "execution_count": 24,
      "outputs": []
    },
    {
      "cell_type": "code",
      "metadata": {
        "colab": {
          "base_uri": "https://localhost:8080/",
          "height": 422
        },
        "id": "QlHp0b_i4cl8",
        "outputId": "e988ab8d-5271-4f4a-89eb-a8abb018e06d"
      },
      "source": [
        "one_hot_encoder(df, ohe_cols, drop_first=True)"
      ],
      "execution_count": 25,
      "outputs": [
        {
          "output_type": "execute_result",
          "data": {
            "text/html": [
              "<div>\n",
              "<style scoped>\n",
              "    .dataframe tbody tr th:only-of-type {\n",
              "        vertical-align: middle;\n",
              "    }\n",
              "\n",
              "    .dataframe tbody tr th {\n",
              "        vertical-align: top;\n",
              "    }\n",
              "\n",
              "    .dataframe thead th {\n",
              "        text-align: right;\n",
              "    }\n",
              "</style>\n",
              "<table border=\"1\" class=\"dataframe\">\n",
              "  <thead>\n",
              "    <tr style=\"text-align: right;\">\n",
              "      <th></th>\n",
              "      <th>Pregnancies</th>\n",
              "      <th>Glucose</th>\n",
              "      <th>BloodPressure</th>\n",
              "      <th>SkinThickness</th>\n",
              "      <th>Insulin</th>\n",
              "      <th>BMI</th>\n",
              "      <th>DiabetesPedigreeFunction</th>\n",
              "      <th>Age</th>\n",
              "      <th>Outcome</th>\n",
              "      <th>NEW_SKIN_THICKNESS</th>\n",
              "      <th>Pre_Age_Cat</th>\n",
              "      <th>Ins_Glu_Cat</th>\n",
              "      <th>NEW_BMI_CAT_Obese</th>\n",
              "      <th>NEW_BMI_CAT_Overweight</th>\n",
              "      <th>NEW_BMI_CAT_Underweight</th>\n",
              "      <th>NEW_GLUCOSE_CAT_Low</th>\n",
              "      <th>NEW_GLUCOSE_CAT_Normal</th>\n",
              "      <th>NEW_GLUCOSE_CAT_Secret</th>\n",
              "      <th>NEW_PREGNANCIES_OverPregnancy</th>\n",
              "      <th>NEW_PREGNANCIES_StdPregnancy</th>\n",
              "      <th>NEW_CIRCULATION_LEVEL_CircularAtMediumRisk</th>\n",
              "      <th>NEW_CIRCULATION_LEVEL_Normal</th>\n",
              "    </tr>\n",
              "  </thead>\n",
              "  <tbody>\n",
              "    <tr>\n",
              "      <th>0</th>\n",
              "      <td>6</td>\n",
              "      <td>85</td>\n",
              "      <td>21</td>\n",
              "      <td>27</td>\n",
              "      <td>103</td>\n",
              "      <td>122</td>\n",
              "      <td>350</td>\n",
              "      <td>29</td>\n",
              "      <td>1</td>\n",
              "      <td>HighFat</td>\n",
              "      <td>300.0</td>\n",
              "      <td>25086.0</td>\n",
              "      <td>1</td>\n",
              "      <td>0</td>\n",
              "      <td>0</td>\n",
              "      <td>0</td>\n",
              "      <td>0</td>\n",
              "      <td>0</td>\n",
              "      <td>1</td>\n",
              "      <td>0</td>\n",
              "      <td>1</td>\n",
              "      <td>0</td>\n",
              "    </tr>\n",
              "    <tr>\n",
              "      <th>1</th>\n",
              "      <td>1</td>\n",
              "      <td>22</td>\n",
              "      <td>18</td>\n",
              "      <td>21</td>\n",
              "      <td>66</td>\n",
              "      <td>61</td>\n",
              "      <td>196</td>\n",
              "      <td>10</td>\n",
              "      <td>0</td>\n",
              "      <td>Normal</td>\n",
              "      <td>31.0</td>\n",
              "      <td>8712.5</td>\n",
              "      <td>0</td>\n",
              "      <td>1</td>\n",
              "      <td>0</td>\n",
              "      <td>0</td>\n",
              "      <td>1</td>\n",
              "      <td>0</td>\n",
              "      <td>0</td>\n",
              "      <td>1</td>\n",
              "      <td>0</td>\n",
              "      <td>1</td>\n",
              "    </tr>\n",
              "    <tr>\n",
              "      <th>2</th>\n",
              "      <td>8</td>\n",
              "      <td>120</td>\n",
              "      <td>16</td>\n",
              "      <td>24</td>\n",
              "      <td>103</td>\n",
              "      <td>29</td>\n",
              "      <td>368</td>\n",
              "      <td>11</td>\n",
              "      <td>1</td>\n",
              "      <td>HighFat</td>\n",
              "      <td>256.0</td>\n",
              "      <td>31018.5</td>\n",
              "      <td>0</td>\n",
              "      <td>0</td>\n",
              "      <td>0</td>\n",
              "      <td>0</td>\n",
              "      <td>0</td>\n",
              "      <td>0</td>\n",
              "      <td>1</td>\n",
              "      <td>0</td>\n",
              "      <td>1</td>\n",
              "      <td>0</td>\n",
              "    </tr>\n",
              "    <tr>\n",
              "      <th>3</th>\n",
              "      <td>1</td>\n",
              "      <td>26</td>\n",
              "      <td>18</td>\n",
              "      <td>15</td>\n",
              "      <td>61</td>\n",
              "      <td>76</td>\n",
              "      <td>53</td>\n",
              "      <td>0</td>\n",
              "      <td>0</td>\n",
              "      <td>Normal</td>\n",
              "      <td>21.0</td>\n",
              "      <td>8366.0</td>\n",
              "      <td>0</td>\n",
              "      <td>1</td>\n",
              "      <td>0</td>\n",
              "      <td>0</td>\n",
              "      <td>1</td>\n",
              "      <td>0</td>\n",
              "      <td>0</td>\n",
              "      <td>1</td>\n",
              "      <td>0</td>\n",
              "      <td>1</td>\n",
              "    </tr>\n",
              "    <tr>\n",
              "      <th>4</th>\n",
              "      <td>0</td>\n",
              "      <td>74</td>\n",
              "      <td>3</td>\n",
              "      <td>27</td>\n",
              "      <td>102</td>\n",
              "      <td>208</td>\n",
              "      <td>489</td>\n",
              "      <td>12</td>\n",
              "      <td>1</td>\n",
              "      <td>HighFat</td>\n",
              "      <td>0.0</td>\n",
              "      <td>23016.0</td>\n",
              "      <td>0</td>\n",
              "      <td>0</td>\n",
              "      <td>0</td>\n",
              "      <td>0</td>\n",
              "      <td>0</td>\n",
              "      <td>0</td>\n",
              "      <td>0</td>\n",
              "      <td>0</td>\n",
              "      <td>1</td>\n",
              "      <td>0</td>\n",
              "    </tr>\n",
              "    <tr>\n",
              "      <th>...</th>\n",
              "      <td>...</td>\n",
              "      <td>...</td>\n",
              "      <td>...</td>\n",
              "      <td>...</td>\n",
              "      <td>...</td>\n",
              "      <td>...</td>\n",
              "      <td>...</td>\n",
              "      <td>...</td>\n",
              "      <td>...</td>\n",
              "      <td>...</td>\n",
              "      <td>...</td>\n",
              "      <td>...</td>\n",
              "      <td>...</td>\n",
              "      <td>...</td>\n",
              "      <td>...</td>\n",
              "      <td>...</td>\n",
              "      <td>...</td>\n",
              "      <td>...</td>\n",
              "      <td>...</td>\n",
              "      <td>...</td>\n",
              "      <td>...</td>\n",
              "      <td>...</td>\n",
              "    </tr>\n",
              "    <tr>\n",
              "      <th>763</th>\n",
              "      <td>10</td>\n",
              "      <td>38</td>\n",
              "      <td>25</td>\n",
              "      <td>40</td>\n",
              "      <td>109</td>\n",
              "      <td>117</td>\n",
              "      <td>55</td>\n",
              "      <td>42</td>\n",
              "      <td>0</td>\n",
              "      <td>HighFat</td>\n",
              "      <td>630.0</td>\n",
              "      <td>18180.0</td>\n",
              "      <td>1</td>\n",
              "      <td>0</td>\n",
              "      <td>0</td>\n",
              "      <td>0</td>\n",
              "      <td>0</td>\n",
              "      <td>1</td>\n",
              "      <td>1</td>\n",
              "      <td>0</td>\n",
              "      <td>1</td>\n",
              "      <td>0</td>\n",
              "    </tr>\n",
              "    <tr>\n",
              "      <th>764</th>\n",
              "      <td>2</td>\n",
              "      <td>59</td>\n",
              "      <td>20</td>\n",
              "      <td>19</td>\n",
              "      <td>66</td>\n",
              "      <td>154</td>\n",
              "      <td>187</td>\n",
              "      <td>6</td>\n",
              "      <td>0</td>\n",
              "      <td>Normal</td>\n",
              "      <td>54.0</td>\n",
              "      <td>12505.0</td>\n",
              "      <td>1</td>\n",
              "      <td>0</td>\n",
              "      <td>0</td>\n",
              "      <td>0</td>\n",
              "      <td>0</td>\n",
              "      <td>1</td>\n",
              "      <td>0</td>\n",
              "      <td>1</td>\n",
              "      <td>0</td>\n",
              "      <td>1</td>\n",
              "    </tr>\n",
              "    <tr>\n",
              "      <th>765</th>\n",
              "      <td>5</td>\n",
              "      <td>58</td>\n",
              "      <td>21</td>\n",
              "      <td>15</td>\n",
              "      <td>71</td>\n",
              "      <td>57</td>\n",
              "      <td>115</td>\n",
              "      <td>9</td>\n",
              "      <td>0</td>\n",
              "      <td>Normal</td>\n",
              "      <td>150.0</td>\n",
              "      <td>13552.0</td>\n",
              "      <td>0</td>\n",
              "      <td>1</td>\n",
              "      <td>0</td>\n",
              "      <td>0</td>\n",
              "      <td>0</td>\n",
              "      <td>1</td>\n",
              "      <td>1</td>\n",
              "      <td>0</td>\n",
              "      <td>0</td>\n",
              "      <td>1</td>\n",
              "    </tr>\n",
              "    <tr>\n",
              "      <th>766</th>\n",
              "      <td>1</td>\n",
              "      <td>63</td>\n",
              "      <td>13</td>\n",
              "      <td>24</td>\n",
              "      <td>103</td>\n",
              "      <td>94</td>\n",
              "      <td>195</td>\n",
              "      <td>26</td>\n",
              "      <td>1</td>\n",
              "      <td>HighFat</td>\n",
              "      <td>47.0</td>\n",
              "      <td>21357.0</td>\n",
              "      <td>1</td>\n",
              "      <td>0</td>\n",
              "      <td>0</td>\n",
              "      <td>0</td>\n",
              "      <td>0</td>\n",
              "      <td>0</td>\n",
              "      <td>0</td>\n",
              "      <td>1</td>\n",
              "      <td>1</td>\n",
              "      <td>0</td>\n",
              "    </tr>\n",
              "    <tr>\n",
              "      <th>767</th>\n",
              "      <td>1</td>\n",
              "      <td>30</td>\n",
              "      <td>20</td>\n",
              "      <td>23</td>\n",
              "      <td>66</td>\n",
              "      <td>97</td>\n",
              "      <td>169</td>\n",
              "      <td>2</td>\n",
              "      <td>0</td>\n",
              "      <td>HighFat</td>\n",
              "      <td>23.0</td>\n",
              "      <td>9532.5</td>\n",
              "      <td>1</td>\n",
              "      <td>0</td>\n",
              "      <td>0</td>\n",
              "      <td>0</td>\n",
              "      <td>1</td>\n",
              "      <td>0</td>\n",
              "      <td>0</td>\n",
              "      <td>1</td>\n",
              "      <td>1</td>\n",
              "      <td>0</td>\n",
              "    </tr>\n",
              "  </tbody>\n",
              "</table>\n",
              "<p>768 rows × 22 columns</p>\n",
              "</div>"
            ],
            "text/plain": [
              "     Pregnancies  ...  NEW_CIRCULATION_LEVEL_Normal\n",
              "0              6  ...                             0\n",
              "1              1  ...                             1\n",
              "2              8  ...                             0\n",
              "3              1  ...                             1\n",
              "4              0  ...                             0\n",
              "..           ...  ...                           ...\n",
              "763           10  ...                             0\n",
              "764            2  ...                             1\n",
              "765            5  ...                             1\n",
              "766            1  ...                             0\n",
              "767            1  ...                             0\n",
              "\n",
              "[768 rows x 22 columns]"
            ]
          },
          "metadata": {
            "tags": []
          },
          "execution_count": 25
        }
      ]
    },
    {
      "cell_type": "code",
      "metadata": {
        "id": "CE3tkx7i4fRO"
      },
      "source": [
        "y = df[\"Outcome\"]\r\n",
        "X = df.drop([\"Outcome\"], axis=1)\r\n",
        "X_train, X_test, y_train, y_test = train_test_split(X, y, test_size=0.30, random_state=17)"
      ],
      "execution_count": 26,
      "outputs": []
    },
    {
      "cell_type": "code",
      "metadata": {
        "id": "Ae-UPkKQ4jl2"
      },
      "source": [
        ""
      ],
      "execution_count": 30,
      "outputs": []
    },
    {
      "cell_type": "code",
      "metadata": {
        "id": "r0Y7aP9Q4nvN"
      },
      "source": [
        ""
      ],
      "execution_count": null,
      "outputs": []
    }
  ]
}